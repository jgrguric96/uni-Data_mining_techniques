{
 "cells": [
  {
   "cell_type": "code",
   "execution_count": 2,
   "metadata": {},
   "outputs": [],
   "source": [
    "import pandas as pd \n",
    "import numpy as np\n",
    "import matplotlib.pyplot as plt\n",
    "import seaborn as sns\n",
    "import pickle\n",
    "\n",
    "from sklearn.decomposition import PCA\n",
    "from sklearn.cluster import KMeans\n",
    "from sklearn.cluster import MiniBatchKMeans\n",
    "\n",
    "from sklearn.feature_selection import SelectKBest\n",
    "from sklearn.feature_selection import chi2\n",
    "\n",
    "import lightgbm as lgb"
   ]
  },
  {
   "cell_type": "markdown",
   "metadata": {},
   "source": [
    "# Feature selection"
   ]
  },
  {
   "cell_type": "code",
   "execution_count": 3,
   "metadata": {},
   "outputs": [],
   "source": [
    "training_data = pd.read_csv('training_set_VU_DM.csv') "
   ]
  },
  {
   "cell_type": "code",
   "execution_count": 5,
   "metadata": {},
   "outputs": [],
   "source": [
    "training_data['date_time'] = pd.to_datetime(training_data['date_time'])\n",
    "\n",
    "training_data['Cin_hour'] = training_data[\"date_time\"].apply(lambda x: x.hour)\n",
    "training_data['Cin_day'] = training_data[\"date_time\"].apply(lambda x: x.day)\n",
    "training_data['Cin_month'] = training_data[\"date_time\"].apply(lambda x: x.month)\n",
    "training_data['Cin_quarter'] = training_data[\"date_time\"].apply(lambda x: x.quarter)\n",
    "training_data['Cin_day_of_week'] = training_data['date_time'].dt.dayofweek+1 #we don't want zeros\n",
    "\n",
    "training_data.drop('date_time',axis=1,inplace=True)"
   ]
  },
  {
   "cell_type": "code",
   "execution_count": 6,
   "metadata": {},
   "outputs": [],
   "source": [
    "training_data['priceRank'] = training_data.groupby('srch_id')['price_usd'].rank()\n",
    "training_data['starRank'] = training_data.groupby('srch_id')['prop_starrating'].rank()\n",
    "training_data['reviewRank'] = training_data.groupby('srch_id')['prop_review_score'].rank()\n",
    "training_data['location1Rank'] = training_data.groupby('srch_id')['prop_location_score1'].rank()\n",
    "training_data['location2Rank'] = training_data.groupby('srch_id')['prop_location_score2'].rank()\n",
    "training_data['histpriceRank'] = training_data.groupby('srch_id')['prop_log_historical_price'].rank()"
   ]
  },
  {
   "cell_type": "code",
   "execution_count": 12,
   "metadata": {},
   "outputs": [],
   "source": [
    "training_data['rating_diff']=abs(training_data['visitor_hist_starrating']-training_data['prop_starrating'])\n",
    "training_data['rating_diff']=training_data['rating_diff'].fillna(training_data['rating_diff'].mean())\n",
    "\n",
    "training_data['price_diff']=abs(training_data['visitor_hist_adr_usd']-training_data['price_usd'])\n",
    "training_data['price_diff']=training_data['price_diff'].fillna(training_data['price_diff'].mean())"
   ]
  },
  {
   "cell_type": "code",
   "execution_count": 13,
   "metadata": {},
   "outputs": [],
   "source": [
    "# creating new features\n",
    "training_data['competitor_rate'] = (training_data.comp1_rate + training_data.comp2_rate + training_data.comp3_rate +\n",
    "                                    training_data.comp4_rate + training_data.comp5_rate + training_data.comp6_rate +\n",
    "                                    training_data.comp7_rate + training_data.comp8_rate)\n",
    "\n",
    "training_data['competitor_inv'] = (training_data.comp1_inv + training_data.comp2_inv + training_data.comp3_inv +\n",
    "                                    training_data.comp4_inv + training_data.comp5_inv + training_data.comp6_inv +\n",
    "                                    training_data.comp7_inv + training_data.comp8_inv)\n",
    "\n",
    "training_data['competitor_rpd'] = (  training_data.comp1_rate_percent_diff + training_data.comp2_rate_percent_diff\n",
    "                                   + training_data.comp3_rate_percent_diff + training_data.comp4_rate_percent_diff\n",
    "                                   + training_data.comp5_rate_percent_diff + training_data.comp6_rate_percent_diff\n",
    "                                   + training_data.comp7_rate_percent_diff + training_data.comp8_rate_percent_diff) /8/100\n",
    "\n",
    "training_data.drop('comp1_rate',axis=1,inplace=True)\n",
    "training_data.drop('comp2_rate',axis=1,inplace=True)\n",
    "training_data.drop('comp3_rate',axis=1,inplace=True)\n",
    "training_data.drop('comp4_rate',axis=1,inplace=True)\n",
    "training_data.drop('comp5_rate',axis=1,inplace=True)\n",
    "training_data.drop('comp6_rate',axis=1,inplace=True)\n",
    "training_data.drop('comp7_rate',axis=1,inplace=True)\n",
    "training_data.drop('comp8_rate',axis=1,inplace=True)\n",
    "training_data.drop('comp1_inv',axis=1,inplace=True)\n",
    "training_data.drop('comp1_rate_percent_diff',axis=1,inplace=True)\n",
    "training_data.drop('comp2_inv',axis=1,inplace=True)\n",
    "training_data.drop('comp2_rate_percent_diff',axis=1,inplace=True)\n",
    "training_data.drop('comp3_inv',axis=1,inplace=True)\n",
    "training_data.drop('comp3_rate_percent_diff',axis=1,inplace=True)\n",
    "training_data.drop('comp4_inv',axis=1,inplace=True)\n",
    "training_data.drop('comp4_rate_percent_diff',axis=1,inplace=True)\n",
    "training_data.drop('comp5_inv',axis=1,inplace=True)\n",
    "training_data.drop('comp5_rate_percent_diff',axis=1,inplace=True)\n",
    "training_data.drop('comp6_inv',axis=1,inplace=True)\n",
    "training_data.drop('comp6_rate_percent_diff',axis=1,inplace=True)\n",
    "training_data.drop('comp7_inv',axis=1,inplace=True)\n",
    "training_data.drop('comp7_rate_percent_diff',axis=1,inplace=True)\n",
    "training_data.drop('comp8_inv',axis=1,inplace=True)\n",
    "training_data.drop('comp8_rate_percent_diff',axis=1,inplace=True)"
   ]
  },
  {
   "cell_type": "code",
   "execution_count": 14,
   "metadata": {},
   "outputs": [],
   "source": [
    "training_data['assign_score'] = training_data.click_bool + 4*training_data.booking_bool\n",
    "training_data = training_data.drop(['click_bool', 'booking_bool'],axis = 1)"
   ]
  },
  {
   "cell_type": "code",
   "execution_count": 15,
   "metadata": {},
   "outputs": [],
   "source": [
    "training_data = training_data[training_data.price_usd < 1800]"
   ]
  },
  {
   "cell_type": "code",
   "execution_count": 16,
   "metadata": {},
   "outputs": [],
   "source": [
    "training_data = training_data.fillna(0)"
   ]
  },
  {
   "cell_type": "code",
   "execution_count": 17,
   "metadata": {},
   "outputs": [],
   "source": [
    "clustering_kmeans = MiniBatchKMeans(n_clusters=100)\n",
    "training_data['hotel_cluster'] = clustering_kmeans.fit_predict(training_data)"
   ]
  },
  {
   "cell_type": "markdown",
   "metadata": {},
   "source": [
    "# Preparing training and validation set"
   ]
  },
  {
   "cell_type": "code",
   "execution_count": 20,
   "metadata": {},
   "outputs": [],
   "source": [
    "from sklearn.model_selection import train_test_split\n",
    "\n",
    "X_train, X_val, y_train, y_val = train_test_split(training_data, training_data.assign_score , test_size=0.30, random_state=42)"
   ]
  },
  {
   "cell_type": "code",
   "execution_count": 21,
   "metadata": {},
   "outputs": [],
   "source": [
    "training_data = training_data.sort_values('srch_id')\n",
    "training_data = training_data.reset_index(drop=True)\n",
    "training_data_groups = training_data.srch_id.value_counts(sort=True,ascending=True).sort_index()\n",
    "y_training = training_data.assign_score\n",
    "\n",
    "train_search_ids = training_data.srch_id\n",
    "\n",
    "training_data.drop(['gross_bookings_usd', 'position'],axis=1,inplace=True)"
   ]
  },
  {
   "cell_type": "code",
   "execution_count": 22,
   "metadata": {},
   "outputs": [],
   "source": [
    "X_train = X_train.sort_values('srch_id')\n",
    "X_train = X_train.reset_index(drop = True)\n",
    "y_train = X_train.assign_score\n",
    "train_search_ids = X_train.srch_id\n",
    "train_groups = X_train.srch_id.value_counts(sort=True,ascending=True).sort_index()\n",
    "\n",
    "X_train.drop(['gross_bookings_usd', 'position'],axis=1,inplace=True)"
   ]
  },
  {
   "cell_type": "code",
   "execution_count": 23,
   "metadata": {},
   "outputs": [],
   "source": [
    "X_val = X_val.sort_values('srch_id')\n",
    "X_val = X_val.reset_index(drop = True)\n",
    "y_val = X_val.assign_score\n",
    "val_groups = X_val.srch_id.value_counts(sort=True,ascending=True).sort_index()\n",
    "val_search_ids = X_val.srch_id\n",
    "\n",
    "X_val.drop(['gross_bookings_usd', 'position'],axis=1,inplace=True)"
   ]
  },
  {
   "cell_type": "code",
   "execution_count": 24,
   "metadata": {},
   "outputs": [],
   "source": [
    "training_data.drop(['srch_id', 'assign_score'],axis=1,inplace=True)\n",
    "X_train.drop(['srch_id', 'assign_score'],axis=1,inplace=True)\n",
    "X_val.drop(['srch_id', 'assign_score'],axis=1,inplace=True)"
   ]
  },
  {
   "cell_type": "markdown",
   "metadata": {},
   "source": [
    "# LGB Model"
   ]
  },
  {
   "cell_type": "code",
   "execution_count": 32,
   "metadata": {
    "scrolled": true
   },
   "outputs": [
    {
     "name": "stdout",
     "output_type": "stream",
     "text": [
      "[1]\tvalid_0's ndcg@1: 0.781069\tvalid_0's ndcg@2: 0.820095\tvalid_0's ndcg@3: 0.842273\tvalid_0's ndcg@4: 0.855711\tvalid_0's ndcg@5: 0.864769\n",
      "Training until validation scores don't improve for 100 rounds\n",
      "[2]\tvalid_0's ndcg@1: 0.788479\tvalid_0's ndcg@2: 0.827774\tvalid_0's ndcg@3: 0.849411\tvalid_0's ndcg@4: 0.862488\tvalid_0's ndcg@5: 0.871198\n",
      "[3]\tvalid_0's ndcg@1: 0.792686\tvalid_0's ndcg@2: 0.83213\tvalid_0's ndcg@3: 0.853292\tvalid_0's ndcg@4: 0.86603\tvalid_0's ndcg@5: 0.87423\n",
      "[4]\tvalid_0's ndcg@1: 0.793913\tvalid_0's ndcg@2: 0.833548\tvalid_0's ndcg@3: 0.85489\tvalid_0's ndcg@4: 0.867432\tvalid_0's ndcg@5: 0.875661\n",
      "[5]\tvalid_0's ndcg@1: 0.794828\tvalid_0's ndcg@2: 0.83487\tvalid_0's ndcg@3: 0.856056\tvalid_0's ndcg@4: 0.868457\tvalid_0's ndcg@5: 0.876584\n",
      "[6]\tvalid_0's ndcg@1: 0.795557\tvalid_0's ndcg@2: 0.835494\tvalid_0's ndcg@3: 0.856522\tvalid_0's ndcg@4: 0.869036\tvalid_0's ndcg@5: 0.877182\n",
      "[7]\tvalid_0's ndcg@1: 0.796764\tvalid_0's ndcg@2: 0.836572\tvalid_0's ndcg@3: 0.857584\tvalid_0's ndcg@4: 0.869989\tvalid_0's ndcg@5: 0.877986\n",
      "[8]\tvalid_0's ndcg@1: 0.797109\tvalid_0's ndcg@2: 0.837046\tvalid_0's ndcg@3: 0.857947\tvalid_0's ndcg@4: 0.870294\tvalid_0's ndcg@5: 0.878437\n",
      "[9]\tvalid_0's ndcg@1: 0.797023\tvalid_0's ndcg@2: 0.837135\tvalid_0's ndcg@3: 0.858111\tvalid_0's ndcg@4: 0.870489\tvalid_0's ndcg@5: 0.878521\n",
      "[10]\tvalid_0's ndcg@1: 0.7973\tvalid_0's ndcg@2: 0.837298\tvalid_0's ndcg@3: 0.858277\tvalid_0's ndcg@4: 0.870651\tvalid_0's ndcg@5: 0.87863\n",
      "[11]\tvalid_0's ndcg@1: 0.797818\tvalid_0's ndcg@2: 0.837668\tvalid_0's ndcg@3: 0.858768\tvalid_0's ndcg@4: 0.871148\tvalid_0's ndcg@5: 0.879005\n",
      "[12]\tvalid_0's ndcg@1: 0.798143\tvalid_0's ndcg@2: 0.838174\tvalid_0's ndcg@3: 0.859168\tvalid_0's ndcg@4: 0.8714\tvalid_0's ndcg@5: 0.879289\n",
      "[13]\tvalid_0's ndcg@1: 0.798268\tvalid_0's ndcg@2: 0.838438\tvalid_0's ndcg@3: 0.859443\tvalid_0's ndcg@4: 0.871591\tvalid_0's ndcg@5: 0.879425\n",
      "[14]\tvalid_0's ndcg@1: 0.798435\tvalid_0's ndcg@2: 0.838656\tvalid_0's ndcg@3: 0.859561\tvalid_0's ndcg@4: 0.871783\tvalid_0's ndcg@5: 0.879584\n",
      "[15]\tvalid_0's ndcg@1: 0.79872\tvalid_0's ndcg@2: 0.83886\tvalid_0's ndcg@3: 0.859697\tvalid_0's ndcg@4: 0.871836\tvalid_0's ndcg@5: 0.87981\n",
      "[16]\tvalid_0's ndcg@1: 0.798785\tvalid_0's ndcg@2: 0.838964\tvalid_0's ndcg@3: 0.859866\tvalid_0's ndcg@4: 0.871973\tvalid_0's ndcg@5: 0.879879\n",
      "[17]\tvalid_0's ndcg@1: 0.799068\tvalid_0's ndcg@2: 0.83921\tvalid_0's ndcg@3: 0.860084\tvalid_0's ndcg@4: 0.872111\tvalid_0's ndcg@5: 0.880066\n",
      "[18]\tvalid_0's ndcg@1: 0.79951\tvalid_0's ndcg@2: 0.8393\tvalid_0's ndcg@3: 0.860383\tvalid_0's ndcg@4: 0.872412\tvalid_0's ndcg@5: 0.880301\n",
      "[19]\tvalid_0's ndcg@1: 0.799783\tvalid_0's ndcg@2: 0.83962\tvalid_0's ndcg@3: 0.860551\tvalid_0's ndcg@4: 0.872553\tvalid_0's ndcg@5: 0.880417\n",
      "[20]\tvalid_0's ndcg@1: 0.799818\tvalid_0's ndcg@2: 0.839676\tvalid_0's ndcg@3: 0.860579\tvalid_0's ndcg@4: 0.872667\tvalid_0's ndcg@5: 0.880489\n",
      "[21]\tvalid_0's ndcg@1: 0.799899\tvalid_0's ndcg@2: 0.839873\tvalid_0's ndcg@3: 0.860753\tvalid_0's ndcg@4: 0.872814\tvalid_0's ndcg@5: 0.880662\n",
      "[22]\tvalid_0's ndcg@1: 0.800051\tvalid_0's ndcg@2: 0.839958\tvalid_0's ndcg@3: 0.860825\tvalid_0's ndcg@4: 0.872882\tvalid_0's ndcg@5: 0.880711\n",
      "[23]\tvalid_0's ndcg@1: 0.800106\tvalid_0's ndcg@2: 0.840148\tvalid_0's ndcg@3: 0.860912\tvalid_0's ndcg@4: 0.872982\tvalid_0's ndcg@5: 0.880876\n",
      "[24]\tvalid_0's ndcg@1: 0.800081\tvalid_0's ndcg@2: 0.840346\tvalid_0's ndcg@3: 0.861102\tvalid_0's ndcg@4: 0.873129\tvalid_0's ndcg@5: 0.880954\n",
      "[25]\tvalid_0's ndcg@1: 0.800153\tvalid_0's ndcg@2: 0.84032\tvalid_0's ndcg@3: 0.861111\tvalid_0's ndcg@4: 0.873182\tvalid_0's ndcg@5: 0.880981\n",
      "[26]\tvalid_0's ndcg@1: 0.800037\tvalid_0's ndcg@2: 0.840222\tvalid_0's ndcg@3: 0.86118\tvalid_0's ndcg@4: 0.873188\tvalid_0's ndcg@5: 0.880976\n",
      "[27]\tvalid_0's ndcg@1: 0.800366\tvalid_0's ndcg@2: 0.840414\tvalid_0's ndcg@3: 0.861314\tvalid_0's ndcg@4: 0.873336\tvalid_0's ndcg@5: 0.881136\n",
      "[28]\tvalid_0's ndcg@1: 0.800371\tvalid_0's ndcg@2: 0.840536\tvalid_0's ndcg@3: 0.861469\tvalid_0's ndcg@4: 0.87344\tvalid_0's ndcg@5: 0.881218\n",
      "[29]\tvalid_0's ndcg@1: 0.800594\tvalid_0's ndcg@2: 0.840772\tvalid_0's ndcg@3: 0.861573\tvalid_0's ndcg@4: 0.873579\tvalid_0's ndcg@5: 0.881333\n",
      "[30]\tvalid_0's ndcg@1: 0.800518\tvalid_0's ndcg@2: 0.840683\tvalid_0's ndcg@3: 0.861501\tvalid_0's ndcg@4: 0.873573\tvalid_0's ndcg@5: 0.881331\n",
      "[31]\tvalid_0's ndcg@1: 0.800781\tvalid_0's ndcg@2: 0.840929\tvalid_0's ndcg@3: 0.861716\tvalid_0's ndcg@4: 0.873776\tvalid_0's ndcg@5: 0.881532\n",
      "[32]\tvalid_0's ndcg@1: 0.800832\tvalid_0's ndcg@2: 0.840985\tvalid_0's ndcg@3: 0.86178\tvalid_0's ndcg@4: 0.873827\tvalid_0's ndcg@5: 0.8816\n",
      "[33]\tvalid_0's ndcg@1: 0.801025\tvalid_0's ndcg@2: 0.841136\tvalid_0's ndcg@3: 0.861891\tvalid_0's ndcg@4: 0.873956\tvalid_0's ndcg@5: 0.881703\n",
      "[34]\tvalid_0's ndcg@1: 0.80101\tvalid_0's ndcg@2: 0.84118\tvalid_0's ndcg@3: 0.861934\tvalid_0's ndcg@4: 0.873981\tvalid_0's ndcg@5: 0.881713\n",
      "[35]\tvalid_0's ndcg@1: 0.801157\tvalid_0's ndcg@2: 0.841294\tvalid_0's ndcg@3: 0.862024\tvalid_0's ndcg@4: 0.874091\tvalid_0's ndcg@5: 0.881818\n",
      "[36]\tvalid_0's ndcg@1: 0.801106\tvalid_0's ndcg@2: 0.841148\tvalid_0's ndcg@3: 0.862052\tvalid_0's ndcg@4: 0.874146\tvalid_0's ndcg@5: 0.881816\n",
      "[37]\tvalid_0's ndcg@1: 0.801161\tvalid_0's ndcg@2: 0.84125\tvalid_0's ndcg@3: 0.86212\tvalid_0's ndcg@4: 0.87419\tvalid_0's ndcg@5: 0.881863\n",
      "[38]\tvalid_0's ndcg@1: 0.801237\tvalid_0's ndcg@2: 0.841376\tvalid_0's ndcg@3: 0.862161\tvalid_0's ndcg@4: 0.874208\tvalid_0's ndcg@5: 0.881956\n",
      "[39]\tvalid_0's ndcg@1: 0.801364\tvalid_0's ndcg@2: 0.841483\tvalid_0's ndcg@3: 0.862221\tvalid_0's ndcg@4: 0.874304\tvalid_0's ndcg@5: 0.882003\n",
      "[40]\tvalid_0's ndcg@1: 0.801415\tvalid_0's ndcg@2: 0.841577\tvalid_0's ndcg@3: 0.86224\tvalid_0's ndcg@4: 0.87431\tvalid_0's ndcg@5: 0.882032\n",
      "[41]\tvalid_0's ndcg@1: 0.801551\tvalid_0's ndcg@2: 0.841731\tvalid_0's ndcg@3: 0.862424\tvalid_0's ndcg@4: 0.874443\tvalid_0's ndcg@5: 0.882152\n",
      "[42]\tvalid_0's ndcg@1: 0.801557\tvalid_0's ndcg@2: 0.841623\tvalid_0's ndcg@3: 0.862442\tvalid_0's ndcg@4: 0.874461\tvalid_0's ndcg@5: 0.882201\n",
      "[43]\tvalid_0's ndcg@1: 0.801607\tvalid_0's ndcg@2: 0.841655\tvalid_0's ndcg@3: 0.862476\tvalid_0's ndcg@4: 0.874445\tvalid_0's ndcg@5: 0.882219\n",
      "[44]\tvalid_0's ndcg@1: 0.801658\tvalid_0's ndcg@2: 0.841728\tvalid_0's ndcg@3: 0.862581\tvalid_0's ndcg@4: 0.874507\tvalid_0's ndcg@5: 0.882305\n",
      "[45]\tvalid_0's ndcg@1: 0.801744\tvalid_0's ndcg@2: 0.841939\tvalid_0's ndcg@3: 0.862605\tvalid_0's ndcg@4: 0.874651\tvalid_0's ndcg@5: 0.882315\n",
      "[46]\tvalid_0's ndcg@1: 0.801774\tvalid_0's ndcg@2: 0.841953\tvalid_0's ndcg@3: 0.862662\tvalid_0's ndcg@4: 0.874652\tvalid_0's ndcg@5: 0.882351\n",
      "[47]\tvalid_0's ndcg@1: 0.801809\tvalid_0's ndcg@2: 0.841945\tvalid_0's ndcg@3: 0.862708\tvalid_0's ndcg@4: 0.874652\tvalid_0's ndcg@5: 0.882393\n",
      "[48]\tvalid_0's ndcg@1: 0.80184\tvalid_0's ndcg@2: 0.842018\tvalid_0's ndcg@3: 0.862846\tvalid_0's ndcg@4: 0.874726\tvalid_0's ndcg@5: 0.882443\n",
      "[49]\tvalid_0's ndcg@1: 0.8019\tvalid_0's ndcg@2: 0.842075\tvalid_0's ndcg@3: 0.862822\tvalid_0's ndcg@4: 0.874727\tvalid_0's ndcg@5: 0.88245\n",
      "[50]\tvalid_0's ndcg@1: 0.801997\tvalid_0's ndcg@2: 0.841988\tvalid_0's ndcg@3: 0.862909\tvalid_0's ndcg@4: 0.874791\tvalid_0's ndcg@5: 0.882458\n",
      "[51]\tvalid_0's ndcg@1: 0.802053\tvalid_0's ndcg@2: 0.842085\tvalid_0's ndcg@3: 0.862964\tvalid_0's ndcg@4: 0.874794\tvalid_0's ndcg@5: 0.882513\n",
      "[52]\tvalid_0's ndcg@1: 0.802099\tvalid_0's ndcg@2: 0.842134\tvalid_0's ndcg@3: 0.863024\tvalid_0's ndcg@4: 0.874873\tvalid_0's ndcg@5: 0.882539\n",
      "[53]\tvalid_0's ndcg@1: 0.802235\tvalid_0's ndcg@2: 0.842211\tvalid_0's ndcg@3: 0.863115\tvalid_0's ndcg@4: 0.875004\tvalid_0's ndcg@5: 0.882636\n",
      "[54]\tvalid_0's ndcg@1: 0.802403\tvalid_0's ndcg@2: 0.8423\tvalid_0's ndcg@3: 0.863171\tvalid_0's ndcg@4: 0.875027\tvalid_0's ndcg@5: 0.88274\n",
      "[55]\tvalid_0's ndcg@1: 0.802397\tvalid_0's ndcg@2: 0.842446\tvalid_0's ndcg@3: 0.863293\tvalid_0's ndcg@4: 0.875159\tvalid_0's ndcg@5: 0.882791\n",
      "[56]\tvalid_0's ndcg@1: 0.802463\tvalid_0's ndcg@2: 0.842513\tvalid_0's ndcg@3: 0.86339\tvalid_0's ndcg@4: 0.875191\tvalid_0's ndcg@5: 0.882872\n",
      "[57]\tvalid_0's ndcg@1: 0.802463\tvalid_0's ndcg@2: 0.842499\tvalid_0's ndcg@3: 0.863374\tvalid_0's ndcg@4: 0.875282\tvalid_0's ndcg@5: 0.882886\n",
      "[58]\tvalid_0's ndcg@1: 0.80227\tvalid_0's ndcg@2: 0.842391\tvalid_0's ndcg@3: 0.86335\tvalid_0's ndcg@4: 0.87519\tvalid_0's ndcg@5: 0.882843\n",
      "[59]\tvalid_0's ndcg@1: 0.80222\tvalid_0's ndcg@2: 0.84244\tvalid_0's ndcg@3: 0.863301\tvalid_0's ndcg@4: 0.875127\tvalid_0's ndcg@5: 0.882822\n"
     ]
    },
    {
     "name": "stdout",
     "output_type": "stream",
     "text": [
      "[60]\tvalid_0's ndcg@1: 0.802473\tvalid_0's ndcg@2: 0.84251\tvalid_0's ndcg@3: 0.863403\tvalid_0's ndcg@4: 0.875283\tvalid_0's ndcg@5: 0.88291\n",
      "[61]\tvalid_0's ndcg@1: 0.802595\tvalid_0's ndcg@2: 0.842623\tvalid_0's ndcg@3: 0.863468\tvalid_0's ndcg@4: 0.875377\tvalid_0's ndcg@5: 0.883002\n",
      "[62]\tvalid_0's ndcg@1: 0.802544\tvalid_0's ndcg@2: 0.842657\tvalid_0's ndcg@3: 0.863505\tvalid_0's ndcg@4: 0.875362\tvalid_0's ndcg@5: 0.882994\n",
      "[63]\tvalid_0's ndcg@1: 0.802717\tvalid_0's ndcg@2: 0.842793\tvalid_0's ndcg@3: 0.863582\tvalid_0's ndcg@4: 0.875464\tvalid_0's ndcg@5: 0.883072\n",
      "[64]\tvalid_0's ndcg@1: 0.802792\tvalid_0's ndcg@2: 0.842836\tvalid_0's ndcg@3: 0.863736\tvalid_0's ndcg@4: 0.875554\tvalid_0's ndcg@5: 0.883155\n",
      "[65]\tvalid_0's ndcg@1: 0.802798\tvalid_0's ndcg@2: 0.842867\tvalid_0's ndcg@3: 0.86375\tvalid_0's ndcg@4: 0.875604\tvalid_0's ndcg@5: 0.883154\n",
      "[66]\tvalid_0's ndcg@1: 0.80295\tvalid_0's ndcg@2: 0.842939\tvalid_0's ndcg@3: 0.863878\tvalid_0's ndcg@4: 0.875662\tvalid_0's ndcg@5: 0.883213\n",
      "[67]\tvalid_0's ndcg@1: 0.802889\tvalid_0's ndcg@2: 0.843008\tvalid_0's ndcg@3: 0.863848\tvalid_0's ndcg@4: 0.875667\tvalid_0's ndcg@5: 0.883227\n",
      "[68]\tvalid_0's ndcg@1: 0.80292\tvalid_0's ndcg@2: 0.843064\tvalid_0's ndcg@3: 0.863762\tvalid_0's ndcg@4: 0.875693\tvalid_0's ndcg@5: 0.883272\n",
      "[69]\tvalid_0's ndcg@1: 0.803087\tvalid_0's ndcg@2: 0.843177\tvalid_0's ndcg@3: 0.863894\tvalid_0's ndcg@4: 0.875796\tvalid_0's ndcg@5: 0.883371\n",
      "[70]\tvalid_0's ndcg@1: 0.803092\tvalid_0's ndcg@2: 0.843145\tvalid_0's ndcg@3: 0.863947\tvalid_0's ndcg@4: 0.875831\tvalid_0's ndcg@5: 0.883368\n",
      "[71]\tvalid_0's ndcg@1: 0.803229\tvalid_0's ndcg@2: 0.843278\tvalid_0's ndcg@3: 0.86398\tvalid_0's ndcg@4: 0.875894\tvalid_0's ndcg@5: 0.883454\n",
      "[72]\tvalid_0's ndcg@1: 0.803148\tvalid_0's ndcg@2: 0.843215\tvalid_0's ndcg@3: 0.863981\tvalid_0's ndcg@4: 0.87586\tvalid_0's ndcg@5: 0.883418\n",
      "[73]\tvalid_0's ndcg@1: 0.803213\tvalid_0's ndcg@2: 0.84316\tvalid_0's ndcg@3: 0.864002\tvalid_0's ndcg@4: 0.875835\tvalid_0's ndcg@5: 0.883436\n",
      "[74]\tvalid_0's ndcg@1: 0.803284\tvalid_0's ndcg@2: 0.843193\tvalid_0's ndcg@3: 0.864066\tvalid_0's ndcg@4: 0.8759\tvalid_0's ndcg@5: 0.883451\n",
      "[75]\tvalid_0's ndcg@1: 0.80332\tvalid_0's ndcg@2: 0.843228\tvalid_0's ndcg@3: 0.864042\tvalid_0's ndcg@4: 0.875914\tvalid_0's ndcg@5: 0.883466\n",
      "[76]\tvalid_0's ndcg@1: 0.803269\tvalid_0's ndcg@2: 0.843292\tvalid_0's ndcg@3: 0.864067\tvalid_0's ndcg@4: 0.87591\tvalid_0's ndcg@5: 0.883517\n",
      "[77]\tvalid_0's ndcg@1: 0.803142\tvalid_0's ndcg@2: 0.843297\tvalid_0's ndcg@3: 0.864041\tvalid_0's ndcg@4: 0.87587\tvalid_0's ndcg@5: 0.883457\n",
      "[78]\tvalid_0's ndcg@1: 0.803199\tvalid_0's ndcg@2: 0.843326\tvalid_0's ndcg@3: 0.864074\tvalid_0's ndcg@4: 0.875917\tvalid_0's ndcg@5: 0.883537\n",
      "[79]\tvalid_0's ndcg@1: 0.803249\tvalid_0's ndcg@2: 0.843366\tvalid_0's ndcg@3: 0.864142\tvalid_0's ndcg@4: 0.875966\tvalid_0's ndcg@5: 0.883574\n",
      "[80]\tvalid_0's ndcg@1: 0.803391\tvalid_0's ndcg@2: 0.843394\tvalid_0's ndcg@3: 0.864201\tvalid_0's ndcg@4: 0.876018\tvalid_0's ndcg@5: 0.8836\n",
      "[81]\tvalid_0's ndcg@1: 0.803381\tvalid_0's ndcg@2: 0.843465\tvalid_0's ndcg@3: 0.864214\tvalid_0's ndcg@4: 0.87606\tvalid_0's ndcg@5: 0.883659\n",
      "[82]\tvalid_0's ndcg@1: 0.803391\tvalid_0's ndcg@2: 0.843422\tvalid_0's ndcg@3: 0.864268\tvalid_0's ndcg@4: 0.876099\tvalid_0's ndcg@5: 0.88367\n",
      "[83]\tvalid_0's ndcg@1: 0.803325\tvalid_0's ndcg@2: 0.843452\tvalid_0's ndcg@3: 0.864261\tvalid_0's ndcg@4: 0.876114\tvalid_0's ndcg@5: 0.883654\n",
      "[84]\tvalid_0's ndcg@1: 0.80335\tvalid_0's ndcg@2: 0.843511\tvalid_0's ndcg@3: 0.864298\tvalid_0's ndcg@4: 0.876142\tvalid_0's ndcg@5: 0.883652\n",
      "[85]\tvalid_0's ndcg@1: 0.80332\tvalid_0's ndcg@2: 0.843533\tvalid_0's ndcg@3: 0.86435\tvalid_0's ndcg@4: 0.876124\tvalid_0's ndcg@5: 0.883649\n",
      "[86]\tvalid_0's ndcg@1: 0.803376\tvalid_0's ndcg@2: 0.843608\tvalid_0's ndcg@3: 0.864375\tvalid_0's ndcg@4: 0.876133\tvalid_0's ndcg@5: 0.883701\n",
      "[87]\tvalid_0's ndcg@1: 0.803426\tvalid_0's ndcg@2: 0.843604\tvalid_0's ndcg@3: 0.86436\tvalid_0's ndcg@4: 0.876174\tvalid_0's ndcg@5: 0.883723\n",
      "[88]\tvalid_0's ndcg@1: 0.803421\tvalid_0's ndcg@2: 0.843643\tvalid_0's ndcg@3: 0.864374\tvalid_0's ndcg@4: 0.876196\tvalid_0's ndcg@5: 0.883708\n",
      "[89]\tvalid_0's ndcg@1: 0.803371\tvalid_0's ndcg@2: 0.8437\tvalid_0's ndcg@3: 0.864387\tvalid_0's ndcg@4: 0.876191\tvalid_0's ndcg@5: 0.883696\n",
      "[90]\tvalid_0's ndcg@1: 0.803538\tvalid_0's ndcg@2: 0.843718\tvalid_0's ndcg@3: 0.864458\tvalid_0's ndcg@4: 0.876252\tvalid_0's ndcg@5: 0.883764\n",
      "[91]\tvalid_0's ndcg@1: 0.803559\tvalid_0's ndcg@2: 0.843759\tvalid_0's ndcg@3: 0.864451\tvalid_0's ndcg@4: 0.876308\tvalid_0's ndcg@5: 0.883773\n",
      "[92]\tvalid_0's ndcg@1: 0.803548\tvalid_0's ndcg@2: 0.843767\tvalid_0's ndcg@3: 0.864468\tvalid_0's ndcg@4: 0.876323\tvalid_0's ndcg@5: 0.883798\n",
      "[93]\tvalid_0's ndcg@1: 0.803574\tvalid_0's ndcg@2: 0.84382\tvalid_0's ndcg@3: 0.864521\tvalid_0's ndcg@4: 0.876376\tvalid_0's ndcg@5: 0.883827\n",
      "[94]\tvalid_0's ndcg@1: 0.803711\tvalid_0's ndcg@2: 0.84388\tvalid_0's ndcg@3: 0.864578\tvalid_0's ndcg@4: 0.876424\tvalid_0's ndcg@5: 0.883884\n",
      "[95]\tvalid_0's ndcg@1: 0.803635\tvalid_0's ndcg@2: 0.843933\tvalid_0's ndcg@3: 0.864592\tvalid_0's ndcg@4: 0.87641\tvalid_0's ndcg@5: 0.883918\n",
      "[96]\tvalid_0's ndcg@1: 0.803767\tvalid_0's ndcg@2: 0.844008\tvalid_0's ndcg@3: 0.864648\tvalid_0's ndcg@4: 0.876495\tvalid_0's ndcg@5: 0.88397\n",
      "[97]\tvalid_0's ndcg@1: 0.803797\tvalid_0's ndcg@2: 0.844016\tvalid_0's ndcg@3: 0.864679\tvalid_0's ndcg@4: 0.876497\tvalid_0's ndcg@5: 0.883983\n",
      "[98]\tvalid_0's ndcg@1: 0.803776\tvalid_0's ndcg@2: 0.844058\tvalid_0's ndcg@3: 0.864717\tvalid_0's ndcg@4: 0.876502\tvalid_0's ndcg@5: 0.884025\n",
      "[99]\tvalid_0's ndcg@1: 0.803731\tvalid_0's ndcg@2: 0.844084\tvalid_0's ndcg@3: 0.864741\tvalid_0's ndcg@4: 0.876516\tvalid_0's ndcg@5: 0.884035\n",
      "[100]\tvalid_0's ndcg@1: 0.803766\tvalid_0's ndcg@2: 0.844096\tvalid_0's ndcg@3: 0.864705\tvalid_0's ndcg@4: 0.876542\tvalid_0's ndcg@5: 0.884066\n",
      "[101]\tvalid_0's ndcg@1: 0.803792\tvalid_0's ndcg@2: 0.844109\tvalid_0's ndcg@3: 0.864774\tvalid_0's ndcg@4: 0.876602\tvalid_0's ndcg@5: 0.884115\n",
      "[102]\tvalid_0's ndcg@1: 0.803791\tvalid_0's ndcg@2: 0.844119\tvalid_0's ndcg@3: 0.864804\tvalid_0's ndcg@4: 0.876602\tvalid_0's ndcg@5: 0.884142\n",
      "[103]\tvalid_0's ndcg@1: 0.803908\tvalid_0's ndcg@2: 0.844189\tvalid_0's ndcg@3: 0.864815\tvalid_0's ndcg@4: 0.8767\tvalid_0's ndcg@5: 0.884189\n",
      "[104]\tvalid_0's ndcg@1: 0.803918\tvalid_0's ndcg@2: 0.844188\tvalid_0's ndcg@3: 0.864825\tvalid_0's ndcg@4: 0.876701\tvalid_0's ndcg@5: 0.884208\n",
      "[105]\tvalid_0's ndcg@1: 0.803979\tvalid_0's ndcg@2: 0.844191\tvalid_0's ndcg@3: 0.864863\tvalid_0's ndcg@4: 0.876705\tvalid_0's ndcg@5: 0.884215\n",
      "[106]\tvalid_0's ndcg@1: 0.804157\tvalid_0's ndcg@2: 0.844315\tvalid_0's ndcg@3: 0.864963\tvalid_0's ndcg@4: 0.876811\tvalid_0's ndcg@5: 0.884308\n",
      "[107]\tvalid_0's ndcg@1: 0.804152\tvalid_0's ndcg@2: 0.844332\tvalid_0's ndcg@3: 0.864975\tvalid_0's ndcg@4: 0.876805\tvalid_0's ndcg@5: 0.88431\n",
      "[108]\tvalid_0's ndcg@1: 0.804167\tvalid_0's ndcg@2: 0.844352\tvalid_0's ndcg@3: 0.86496\tvalid_0's ndcg@4: 0.876804\tvalid_0's ndcg@5: 0.884339\n",
      "[109]\tvalid_0's ndcg@1: 0.804177\tvalid_0's ndcg@2: 0.844326\tvalid_0's ndcg@3: 0.864979\tvalid_0's ndcg@4: 0.876829\tvalid_0's ndcg@5: 0.884355\n",
      "[110]\tvalid_0's ndcg@1: 0.804193\tvalid_0's ndcg@2: 0.844395\tvalid_0's ndcg@3: 0.864948\tvalid_0's ndcg@4: 0.876829\tvalid_0's ndcg@5: 0.884358\n",
      "[111]\tvalid_0's ndcg@1: 0.804192\tvalid_0's ndcg@2: 0.844437\tvalid_0's ndcg@3: 0.864989\tvalid_0's ndcg@4: 0.876851\tvalid_0's ndcg@5: 0.88439\n",
      "[112]\tvalid_0's ndcg@1: 0.804233\tvalid_0's ndcg@2: 0.844466\tvalid_0's ndcg@3: 0.865021\tvalid_0's ndcg@4: 0.876871\tvalid_0's ndcg@5: 0.88441\n",
      "[113]\tvalid_0's ndcg@1: 0.804355\tvalid_0's ndcg@2: 0.844534\tvalid_0's ndcg@3: 0.865064\tvalid_0's ndcg@4: 0.876939\tvalid_0's ndcg@5: 0.884469\n",
      "[114]\tvalid_0's ndcg@1: 0.804319\tvalid_0's ndcg@2: 0.844586\tvalid_0's ndcg@3: 0.865092\tvalid_0's ndcg@4: 0.876942\tvalid_0's ndcg@5: 0.884483\n",
      "[115]\tvalid_0's ndcg@1: 0.804334\tvalid_0's ndcg@2: 0.844632\tvalid_0's ndcg@3: 0.865109\tvalid_0's ndcg@4: 0.876938\tvalid_0's ndcg@5: 0.884473\n",
      "[116]\tvalid_0's ndcg@1: 0.804405\tvalid_0's ndcg@2: 0.844696\tvalid_0's ndcg@3: 0.865253\tvalid_0's ndcg@4: 0.876999\tvalid_0's ndcg@5: 0.884532\n",
      "[117]\tvalid_0's ndcg@1: 0.804445\tvalid_0's ndcg@2: 0.844762\tvalid_0's ndcg@3: 0.865284\tvalid_0's ndcg@4: 0.877016\tvalid_0's ndcg@5: 0.88457\n",
      "[118]\tvalid_0's ndcg@1: 0.80442\tvalid_0's ndcg@2: 0.844753\tvalid_0's ndcg@3: 0.865284\tvalid_0's ndcg@4: 0.876992\tvalid_0's ndcg@5: 0.884575\n"
     ]
    },
    {
     "name": "stdout",
     "output_type": "stream",
     "text": [
      "[119]\tvalid_0's ndcg@1: 0.804451\tvalid_0's ndcg@2: 0.844722\tvalid_0's ndcg@3: 0.865263\tvalid_0's ndcg@4: 0.877001\tvalid_0's ndcg@5: 0.884581\n",
      "[120]\tvalid_0's ndcg@1: 0.804496\tvalid_0's ndcg@2: 0.844773\tvalid_0's ndcg@3: 0.865278\tvalid_0's ndcg@4: 0.87705\tvalid_0's ndcg@5: 0.884614\n",
      "[121]\tvalid_0's ndcg@1: 0.804521\tvalid_0's ndcg@2: 0.844738\tvalid_0's ndcg@3: 0.865285\tvalid_0's ndcg@4: 0.877035\tvalid_0's ndcg@5: 0.884607\n",
      "[122]\tvalid_0's ndcg@1: 0.804506\tvalid_0's ndcg@2: 0.844768\tvalid_0's ndcg@3: 0.865267\tvalid_0's ndcg@4: 0.877038\tvalid_0's ndcg@5: 0.884589\n",
      "[123]\tvalid_0's ndcg@1: 0.804573\tvalid_0's ndcg@2: 0.844878\tvalid_0's ndcg@3: 0.865315\tvalid_0's ndcg@4: 0.877104\tvalid_0's ndcg@5: 0.884673\n",
      "[124]\tvalid_0's ndcg@1: 0.804618\tvalid_0's ndcg@2: 0.844897\tvalid_0's ndcg@3: 0.865354\tvalid_0's ndcg@4: 0.877147\tvalid_0's ndcg@5: 0.884713\n",
      "[125]\tvalid_0's ndcg@1: 0.804593\tvalid_0's ndcg@2: 0.844901\tvalid_0's ndcg@3: 0.865391\tvalid_0's ndcg@4: 0.877142\tvalid_0's ndcg@5: 0.884697\n",
      "[126]\tvalid_0's ndcg@1: 0.804684\tvalid_0's ndcg@2: 0.845001\tvalid_0's ndcg@3: 0.865392\tvalid_0's ndcg@4: 0.877169\tvalid_0's ndcg@5: 0.884744\n",
      "[127]\tvalid_0's ndcg@1: 0.804674\tvalid_0's ndcg@2: 0.845003\tvalid_0's ndcg@3: 0.865435\tvalid_0's ndcg@4: 0.877171\tvalid_0's ndcg@5: 0.884741\n",
      "[128]\tvalid_0's ndcg@1: 0.804674\tvalid_0's ndcg@2: 0.845006\tvalid_0's ndcg@3: 0.865437\tvalid_0's ndcg@4: 0.87715\tvalid_0's ndcg@5: 0.884732\n",
      "[129]\tvalid_0's ndcg@1: 0.804679\tvalid_0's ndcg@2: 0.84502\tvalid_0's ndcg@3: 0.865432\tvalid_0's ndcg@4: 0.877176\tvalid_0's ndcg@5: 0.884745\n",
      "[130]\tvalid_0's ndcg@1: 0.804685\tvalid_0's ndcg@2: 0.844971\tvalid_0's ndcg@3: 0.865463\tvalid_0's ndcg@4: 0.877194\tvalid_0's ndcg@5: 0.88474\n",
      "[131]\tvalid_0's ndcg@1: 0.804624\tvalid_0's ndcg@2: 0.844975\tvalid_0's ndcg@3: 0.865493\tvalid_0's ndcg@4: 0.87721\tvalid_0's ndcg@5: 0.884691\n",
      "[132]\tvalid_0's ndcg@1: 0.804593\tvalid_0's ndcg@2: 0.845021\tvalid_0's ndcg@3: 0.865485\tvalid_0's ndcg@4: 0.877247\tvalid_0's ndcg@5: 0.88472\n",
      "[133]\tvalid_0's ndcg@1: 0.804563\tvalid_0's ndcg@2: 0.844991\tvalid_0's ndcg@3: 0.865492\tvalid_0's ndcg@4: 0.877246\tvalid_0's ndcg@5: 0.884684\n",
      "[134]\tvalid_0's ndcg@1: 0.804633\tvalid_0's ndcg@2: 0.845036\tvalid_0's ndcg@3: 0.865505\tvalid_0's ndcg@4: 0.877271\tvalid_0's ndcg@5: 0.884731\n",
      "[135]\tvalid_0's ndcg@1: 0.804694\tvalid_0's ndcg@2: 0.845132\tvalid_0's ndcg@3: 0.865618\tvalid_0's ndcg@4: 0.877325\tvalid_0's ndcg@5: 0.884785\n",
      "[136]\tvalid_0's ndcg@1: 0.804689\tvalid_0's ndcg@2: 0.845155\tvalid_0's ndcg@3: 0.865635\tvalid_0's ndcg@4: 0.877344\tvalid_0's ndcg@5: 0.884806\n",
      "[137]\tvalid_0's ndcg@1: 0.804689\tvalid_0's ndcg@2: 0.845132\tvalid_0's ndcg@3: 0.865623\tvalid_0's ndcg@4: 0.877349\tvalid_0's ndcg@5: 0.884815\n",
      "[138]\tvalid_0's ndcg@1: 0.804643\tvalid_0's ndcg@2: 0.845099\tvalid_0's ndcg@3: 0.865636\tvalid_0's ndcg@4: 0.877334\tvalid_0's ndcg@5: 0.884813\n",
      "[139]\tvalid_0's ndcg@1: 0.804582\tvalid_0's ndcg@2: 0.845056\tvalid_0's ndcg@3: 0.865618\tvalid_0's ndcg@4: 0.877332\tvalid_0's ndcg@5: 0.884807\n",
      "[140]\tvalid_0's ndcg@1: 0.804552\tvalid_0's ndcg@2: 0.845082\tvalid_0's ndcg@3: 0.865646\tvalid_0's ndcg@4: 0.877336\tvalid_0's ndcg@5: 0.884817\n",
      "[141]\tvalid_0's ndcg@1: 0.804572\tvalid_0's ndcg@2: 0.845114\tvalid_0's ndcg@3: 0.865617\tvalid_0's ndcg@4: 0.877385\tvalid_0's ndcg@5: 0.884839\n",
      "[142]\tvalid_0's ndcg@1: 0.804663\tvalid_0's ndcg@2: 0.845144\tvalid_0's ndcg@3: 0.865707\tvalid_0's ndcg@4: 0.877439\tvalid_0's ndcg@5: 0.884871\n",
      "[143]\tvalid_0's ndcg@1: 0.804688\tvalid_0's ndcg@2: 0.845231\tvalid_0's ndcg@3: 0.865748\tvalid_0's ndcg@4: 0.877475\tvalid_0's ndcg@5: 0.884922\n",
      "[144]\tvalid_0's ndcg@1: 0.804785\tvalid_0's ndcg@2: 0.845277\tvalid_0's ndcg@3: 0.865795\tvalid_0's ndcg@4: 0.877517\tvalid_0's ndcg@5: 0.884974\n",
      "[145]\tvalid_0's ndcg@1: 0.80483\tvalid_0's ndcg@2: 0.8453\tvalid_0's ndcg@3: 0.865835\tvalid_0's ndcg@4: 0.877537\tvalid_0's ndcg@5: 0.884999\n",
      "[146]\tvalid_0's ndcg@1: 0.804825\tvalid_0's ndcg@2: 0.845326\tvalid_0's ndcg@3: 0.865853\tvalid_0's ndcg@4: 0.877551\tvalid_0's ndcg@5: 0.885022\n",
      "[147]\tvalid_0's ndcg@1: 0.80479\tvalid_0's ndcg@2: 0.845312\tvalid_0's ndcg@3: 0.865821\tvalid_0's ndcg@4: 0.877529\tvalid_0's ndcg@5: 0.885002\n",
      "[148]\tvalid_0's ndcg@1: 0.804851\tvalid_0's ndcg@2: 0.845352\tvalid_0's ndcg@3: 0.865799\tvalid_0's ndcg@4: 0.877555\tvalid_0's ndcg@5: 0.885002\n",
      "[149]\tvalid_0's ndcg@1: 0.804841\tvalid_0's ndcg@2: 0.845334\tvalid_0's ndcg@3: 0.865792\tvalid_0's ndcg@4: 0.877582\tvalid_0's ndcg@5: 0.884982\n",
      "[150]\tvalid_0's ndcg@1: 0.804806\tvalid_0's ndcg@2: 0.845328\tvalid_0's ndcg@3: 0.865807\tvalid_0's ndcg@4: 0.877601\tvalid_0's ndcg@5: 0.884973\n",
      "Did not meet early stopping. Best iteration is:\n",
      "[148]\tvalid_0's ndcg@1: 0.804851\tvalid_0's ndcg@2: 0.845352\tvalid_0's ndcg@3: 0.865799\tvalid_0's ndcg@4: 0.877555\tvalid_0's ndcg@5: 0.885002\n"
     ]
    },
    {
     "data": {
      "text/plain": [
       "LGBMRanker(n_estimators=150, num_leaves=30, objective='lambdarank',\n",
       "           score='ndcg', subsample=0.8, subsample_freq=-1)"
      ]
     },
     "execution_count": 32,
     "metadata": {},
     "output_type": "execute_result"
    }
   ],
   "source": [
    "model2 = lgb.LGBMRanker(objective='lambdarank',n_estimators= 150, num_leaves=30,learning_rate= 0.1,score='ndcg',\n",
    "                       subsample=0.8,subsample_freq=-1, boosting_type = 'gbdt')\n",
    "\n",
    "model2.fit(X_train, y_train, group=train_groups, eval_set = [(X_val,y_val)], eval_group=[val_groups])"
   ]
  },
  {
   "cell_type": "code",
   "execution_count": 34,
   "metadata": {},
   "outputs": [
    {
     "data": {
      "text/plain": [
       "<AxesSubplot:title={'center':'Feature importance'}, xlabel='Feature importance', ylabel='Features'>"
      ]
     },
     "execution_count": 34,
     "metadata": {},
     "output_type": "execute_result"
    },
    {
     "data": {
      "image/png": "[encoded data removed]",
      "text/plain": [
       "<Figure size 720x720 with 1 Axes>"
      ]
     },
     "metadata": {
      "needs_background": "light"
     },
     "output_type": "display_data"
    }
   ],
   "source": [
    "lgb.plot_importance(model2, figsize=(10,10))"
   ]
  },
  {
   "cell_type": "code",
   "execution_count": 1,
   "metadata": {},
   "outputs": [
    {
     "ename": "NameError",
     "evalue": "name 'model2' is not defined",
     "output_type": "error",
     "traceback": [
      "\u001b[1;31m---------------------------------------------------------------------------\u001b[0m",
      "\u001b[1;31mNameError\u001b[0m                                 Traceback (most recent call last)",
      "\u001b[1;32m<ipython-input-1-0c7836465408>\u001b[0m in \u001b[0;36m<module>\u001b[1;34m\u001b[0m\n\u001b[1;32m----> 1\u001b[1;33m \u001b[0mevaluation_lgb\u001b[0m \u001b[1;33m=\u001b[0m \u001b[0mmodel2\u001b[0m\u001b[1;33m.\u001b[0m\u001b[0mevals_result_\u001b[0m\u001b[1;33m\u001b[0m\u001b[1;33m\u001b[0m\u001b[0m\n\u001b[0m",
      "\u001b[1;31mNameError\u001b[0m: name 'model2' is not defined"
     ]
    }
   ],
   "source": [
    "evaluation_lgb = model2.evals_result_"
   ]
  },
  {
   "cell_type": "code",
   "execution_count": 36,
   "metadata": {},
   "outputs": [
    {
     "name": "stdout",
     "output_type": "stream",
     "text": [
      "0.8849734212673014\n"
     ]
    }
   ],
   "source": [
    "print(evaluation_lgb['valid_0']['ndcg@5'][-1])"
   ]
  },
  {
   "cell_type": "code",
   "execution_count": 33,
   "metadata": {
    "scrolled": true
   },
   "outputs": [
    {
     "name": "stderr",
     "output_type": "stream",
     "text": [
      "C:\\Users\\Quirijn\\anaconda3\\lib\\site-packages\\lightgbm\\plotting.py:328: UserWarning: More than one metric available, picking one to plot.\n",
      "  _log_warning(\"More than one metric available, picking one to plot.\")\n"
     ]
    },
    {
     "data": {
      "text/plain": [
       "<AxesSubplot:title={'center':'Metric during training'}, xlabel='Iterations', ylabel='ndcg@5'>"
      ]
     },
     "execution_count": 33,
     "metadata": {},
     "output_type": "execute_result"
    },
    {
     "data": {
      "image/png": "[encoded data removed]",
      "text/plain": [
       "<Figure size 432x288 with 1 Axes>"
      ]
     },
     "metadata": {
      "needs_background": "light"
     },
     "output_type": "display_data"
    }
   ],
   "source": [
    "lgb.plot_metric(model2)"
   ]
  },
  {
   "cell_type": "markdown",
   "metadata": {},
   "source": [
    "# XGBoost model"
   ]
  },
  {
   "cell_type": "code",
   "execution_count": 37,
   "metadata": {},
   "outputs": [
    {
     "name": "stderr",
     "output_type": "stream",
     "text": [
      "C:\\Users\\Quirijn\\anaconda3\\lib\\site-packages\\xgboost\\core.py:430: FutureWarning: Pass `group` as keyword args.  Passing these as positional arguments will be considered as error in future releases.\n",
      "  format(\", \".join(args_msg)), FutureWarning)\n"
     ]
    },
    {
     "data": {
      "text/plain": [
       "XGBRanker(base_score=0.5, booster='gbtree', colsample_bylevel=1,\n",
       "          colsample_bynode=1, colsample_bytree=1, gamma=1.0, gpu_id=-1,\n",
       "          importance_type='gain', interaction_constraints='', learning_rate=0.1,\n",
       "          max_delta_step=0, max_depth=8, min_child_weight=0.1, missing=nan,\n",
       "          monotone_constraints='()', n_estimators=200, n_jobs=8,\n",
       "          num_parallel_tree=1, random_state=0, reg_alpha=0, reg_lambda=1,\n",
       "          scale_pos_weight=None, subsample=0.7, tree_method='exact',\n",
       "          validate_parameters=1, verbosity=None)"
      ]
     },
     "execution_count": 37,
     "metadata": {},
     "output_type": "execute_result"
    }
   ],
   "source": [
    "import xgboost as xgb\n",
    "\n",
    "model3 = xgb.sklearn.XGBRanker(objective = 'rank:pairwise', learning_rate= 0.1,gamma= 1.0, min_child_weight= 0.1,\n",
    "                                n_estimators= 200,subsample=0.7,max_depth=8,booster='gbtree')\n",
    "#gbtree or dart\n",
    "model3.fit(X_train, y_train, train_groups, eval_set=[(X_val, y_val)], eval_group=[val_groups],eval_metric = 'ndcg')"
   ]
  },
  {
   "cell_type": "code",
   "execution_count": 39,
   "metadata": {},
   "outputs": [
    {
     "data": {
      "text/plain": [
       "{'validation_0': OrderedDict([('ndcg',\n",
       "               [0.887895,\n",
       "                0.889298,\n",
       "                0.890449,\n",
       "                0.891487,\n",
       "                0.891863,\n",
       "                0.892409,\n",
       "                0.892703,\n",
       "                0.892898,\n",
       "                0.893175,\n",
       "                0.893314,\n",
       "                0.89352,\n",
       "                0.893715,\n",
       "                0.893863,\n",
       "                0.893973,\n",
       "                0.894258,\n",
       "                0.894422,\n",
       "                0.894572,\n",
       "                0.894696,\n",
       "                0.894747,\n",
       "                0.894822,\n",
       "                0.894922,\n",
       "                0.895038,\n",
       "                0.895188,\n",
       "                0.895161,\n",
       "                0.895208,\n",
       "                0.895293,\n",
       "                0.895412,\n",
       "                0.895522,\n",
       "                0.895626,\n",
       "                0.895694,\n",
       "                0.895864,\n",
       "                0.89588,\n",
       "                0.895918,\n",
       "                0.896121,\n",
       "                0.896155,\n",
       "                0.896194,\n",
       "                0.896257,\n",
       "                0.896302,\n",
       "                0.896416,\n",
       "                0.896444,\n",
       "                0.896494,\n",
       "                0.896598,\n",
       "                0.896673,\n",
       "                0.896766,\n",
       "                0.896814,\n",
       "                0.896836,\n",
       "                0.896862,\n",
       "                0.896883,\n",
       "                0.896922,\n",
       "                0.89697,\n",
       "                0.897066,\n",
       "                0.89711,\n",
       "                0.897125,\n",
       "                0.897192,\n",
       "                0.897177,\n",
       "                0.897231,\n",
       "                0.897292,\n",
       "                0.897276,\n",
       "                0.897348,\n",
       "                0.897402,\n",
       "                0.897452,\n",
       "                0.897468,\n",
       "                0.897535,\n",
       "                0.897541,\n",
       "                0.897576,\n",
       "                0.897599,\n",
       "                0.897681,\n",
       "                0.897688,\n",
       "                0.897704,\n",
       "                0.897762,\n",
       "                0.897756,\n",
       "                0.897768,\n",
       "                0.897848,\n",
       "                0.897886,\n",
       "                0.897874,\n",
       "                0.897865,\n",
       "                0.897906,\n",
       "                0.897933,\n",
       "                0.897986,\n",
       "                0.897984,\n",
       "                0.898023,\n",
       "                0.898072,\n",
       "                0.898079,\n",
       "                0.898079,\n",
       "                0.898084,\n",
       "                0.898115,\n",
       "                0.898167,\n",
       "                0.898186,\n",
       "                0.898161,\n",
       "                0.89817,\n",
       "                0.898183,\n",
       "                0.898204,\n",
       "                0.898206,\n",
       "                0.898192,\n",
       "                0.898156,\n",
       "                0.898167,\n",
       "                0.898164,\n",
       "                0.898198,\n",
       "                0.898232,\n",
       "                0.898304,\n",
       "                0.898282,\n",
       "                0.898334,\n",
       "                0.898331,\n",
       "                0.898346,\n",
       "                0.898339,\n",
       "                0.898355,\n",
       "                0.898359,\n",
       "                0.89835,\n",
       "                0.898372,\n",
       "                0.89841,\n",
       "                0.898448,\n",
       "                0.898459,\n",
       "                0.898491,\n",
       "                0.898501,\n",
       "                0.898532,\n",
       "                0.898522,\n",
       "                0.898519,\n",
       "                0.898552,\n",
       "                0.898546,\n",
       "                0.898549,\n",
       "                0.898604,\n",
       "                0.898602,\n",
       "                0.898606,\n",
       "                0.898637,\n",
       "                0.89863,\n",
       "                0.898632,\n",
       "                0.898646,\n",
       "                0.898664,\n",
       "                0.898697,\n",
       "                0.898707,\n",
       "                0.898728,\n",
       "                0.898742,\n",
       "                0.898752,\n",
       "                0.898748,\n",
       "                0.898751,\n",
       "                0.898787,\n",
       "                0.89879,\n",
       "                0.898781,\n",
       "                0.898815,\n",
       "                0.89881,\n",
       "                0.898814,\n",
       "                0.898842,\n",
       "                0.898864,\n",
       "                0.898882,\n",
       "                0.898888,\n",
       "                0.898901,\n",
       "                0.898967,\n",
       "                0.898929,\n",
       "                0.898934,\n",
       "                0.898934,\n",
       "                0.898926,\n",
       "                0.89893,\n",
       "                0.898954,\n",
       "                0.898964,\n",
       "                0.898984,\n",
       "                0.898985,\n",
       "                0.898972,\n",
       "                0.899008,\n",
       "                0.899028,\n",
       "                0.899029,\n",
       "                0.899037,\n",
       "                0.899033,\n",
       "                0.899051,\n",
       "                0.899077,\n",
       "                0.899064,\n",
       "                0.899074,\n",
       "                0.899068,\n",
       "                0.899088,\n",
       "                0.899098,\n",
       "                0.899121,\n",
       "                0.89914,\n",
       "                0.899139,\n",
       "                0.899154,\n",
       "                0.89916,\n",
       "                0.899162,\n",
       "                0.899161,\n",
       "                0.899181,\n",
       "                0.899195,\n",
       "                0.899213,\n",
       "                0.899213,\n",
       "                0.899206,\n",
       "                0.899227,\n",
       "                0.899265,\n",
       "                0.899263,\n",
       "                0.899244,\n",
       "                0.899228,\n",
       "                0.899222,\n",
       "                0.89926,\n",
       "                0.899297,\n",
       "                0.899297,\n",
       "                0.899278,\n",
       "                0.899263,\n",
       "                0.899269,\n",
       "                0.899304,\n",
       "                0.899285,\n",
       "                0.899266,\n",
       "                0.899266,\n",
       "                0.899244,\n",
       "                0.899264,\n",
       "                0.899262])])}"
      ]
     },
     "execution_count": 39,
     "metadata": {},
     "output_type": "execute_result"
    }
   ],
   "source": [
    "evaluation_xgb = model3.evals_result_"
   ]
  },
  {
   "cell_type": "code",
   "execution_count": 40,
   "metadata": {},
   "outputs": [
    {
     "name": "stdout",
     "output_type": "stream",
     "text": [
      "0.899262\n"
     ]
    }
   ],
   "source": [
    "print(evaluation_xgb['validation_0']['ndcg'][-1])"
   ]
  },
  {
   "cell_type": "code",
   "execution_count": null,
   "metadata": {},
   "outputs": [],
   "source": [
    "from matplotlib import pyplot\n",
    "# plot learning curves\n",
    "pyplot.plot(evaluation_xgb['validation_0']['ndcg'], label='train')\n",
    "# show the legend\n",
    "pyplot.legend()\n",
    "# show the plot\n",
    "pyplot.show()"
   ]
  },
  {
   "cell_type": "markdown",
   "metadata": {},
   "source": [
    "# Preparing the test data"
   ]
  },
  {
   "cell_type": "code",
   "execution_count": 3,
   "metadata": {},
   "outputs": [
    {
     "ename": "NameError",
     "evalue": "name 'pd' is not defined",
     "output_type": "error",
     "traceback": [
      "\u001b[1;31m---------------------------------------------------------------------------\u001b[0m",
      "\u001b[1;31mNameError\u001b[0m                                 Traceback (most recent call last)",
      "\u001b[1;32m<ipython-input-3-f86f601c9d1c>\u001b[0m in \u001b[0;36m<module>\u001b[1;34m\u001b[0m\n\u001b[1;32m----> 1\u001b[1;33m \u001b[0mtest_data\u001b[0m \u001b[1;33m=\u001b[0m \u001b[0mpd\u001b[0m\u001b[1;33m.\u001b[0m\u001b[0mread_csv\u001b[0m\u001b[1;33m(\u001b[0m\u001b[1;34m'test_set_VU_DM.csv'\u001b[0m\u001b[1;33m)\u001b[0m\u001b[1;33m\u001b[0m\u001b[1;33m\u001b[0m\u001b[0m\n\u001b[0m",
      "\u001b[1;31mNameError\u001b[0m: name 'pd' is not defined"
     ]
    }
   ],
   "source": [
    "#test_data = pd.read_csv('test_set_VU_DM.csv') "
   ]
  },
  {
   "cell_type": "code",
   "execution_count": null,
   "metadata": {},
   "outputs": [],
   "source": [
    "test_data['date_time'] = pd.to_datetime(test_data['date_time'])\n",
    "\n",
    "test_data['Cin_hour'] = test_data[\"date_time\"].apply(lambda x: x.hour)\n",
    "test_data['Cin_day'] = test_data[\"date_time\"].apply(lambda x: x.day)\n",
    "test_data['Cin_month'] = test_data[\"date_time\"].apply(lambda x: x.month)\n",
    "test_data['Cin_quarter'] = test_data[\"date_time\"].apply(lambda x: x.quarter)\n",
    "test_data['Cin_day_of_week'] = test_data['date_time'].dt.dayofweek+1 #we don't want zeros\n",
    "\n",
    "test_data.drop('date_time',axis=1,inplace=True)"
   ]
  },
  {
   "cell_type": "code",
   "execution_count": null,
   "metadata": {},
   "outputs": [],
   "source": [
    "test_data['priceRank'] = test_data.groupby('srch_id')['price_usd'].rank()\n",
    "test_data['starRank'] = test_data.groupby('srch_id')['prop_starrating'].rank()\n",
    "test_data['reviewRank'] = test_data.groupby('srch_id')['prop_review_score'].rank()\n",
    "test_data['location1Rank'] = test_data.groupby('srch_id')['prop_location_score1'].rank()\n",
    "test_data['location2Rank'] = test_data.groupby('srch_id')['prop_location_score2'].rank()\n",
    "test_data['histpriceRank'] = test_data.groupby('srch_id')['prop_log_historical_price'].rank()"
   ]
  },
  {
   "cell_type": "code",
   "execution_count": null,
   "metadata": {},
   "outputs": [],
   "source": [
    "test_data['rating_diff']=abs(test_data['visitor_hist_starrating']-test_data['prop_starrating'])\n",
    "test_data['rating_diff']=test_data['rating_diff'].fillna(test_data['rating_diff'].mean())\n",
    "\n",
    "test_data['price_diff']=abs(test_data['visitor_hist_adr_usd']-test_data['price_usd'])\n",
    "test_data['price_diff']=test_data['price_diff'].fillna(test_data['price_diff'].mean())"
   ]
  },
  {
   "cell_type": "code",
   "execution_count": null,
   "metadata": {},
   "outputs": [],
   "source": [
    "test_data['competitor_rate'] = (test_data.comp1_rate + test_data.comp2_rate + test_data.comp3_rate +\n",
    "                                test_data.comp4_rate + test_data.comp5_rate + test_data.comp6_rate +\n",
    "                                test_data.comp7_rate + test_data.comp8_rate)\n",
    "\n",
    "test_data['competitor_inv'] = (test_data.comp1_inv + test_data.comp2_inv + test_data.comp3_inv +\n",
    "                               test_data.comp4_inv + test_data.comp5_inv + test_data.comp6_inv +\n",
    "                               test_data.comp7_inv + test_data.comp8_inv)\n",
    "\n",
    "test_data['competitor_rpd'] = (  test_data.comp1_rate_percent_diff + test_data.comp2_rate_percent_diff\n",
    "                               + test_data.comp3_rate_percent_diff + test_data.comp4_rate_percent_diff\n",
    "                               + test_data.comp5_rate_percent_diff + test_data.comp6_rate_percent_diff\n",
    "                               + test_data.comp7_rate_percent_diff + test_data.comp8_rate_percent_diff)/8/100\n",
    "\n",
    "test_data.drop('comp1_rate',axis=1,inplace=True)\n",
    "test_data.drop('comp2_rate',axis=1,inplace=True)\n",
    "test_data.drop('comp3_rate',axis=1,inplace=True)\n",
    "test_data.drop('comp4_rate',axis=1,inplace=True)\n",
    "test_data.drop('comp5_rate',axis=1,inplace=True)\n",
    "test_data.drop('comp6_rate',axis=1,inplace=True)\n",
    "test_data.drop('comp7_rate',axis=1,inplace=True)\n",
    "test_data.drop('comp8_rate',axis=1,inplace=True)\n",
    "test_data.drop('comp1_inv',axis=1,inplace=True)\n",
    "test_data.drop('comp1_rate_percent_diff',axis=1,inplace=True)\n",
    "test_data.drop('comp2_inv',axis=1,inplace=True)\n",
    "test_data.drop('comp2_rate_percent_diff',axis=1,inplace=True)\n",
    "test_data.drop('comp3_inv',axis=1,inplace=True)\n",
    "test_data.drop('comp3_rate_percent_diff',axis=1,inplace=True)\n",
    "test_data.drop('comp4_inv',axis=1,inplace=True)\n",
    "test_data.drop('comp4_rate_percent_diff',axis=1,inplace=True)\n",
    "test_data.drop('comp5_inv',axis=1,inplace=True)\n",
    "test_data.drop('comp5_rate_percent_diff',axis=1,inplace=True)\n",
    "test_data.drop('comp6_inv',axis=1,inplace=True)\n",
    "test_data.drop('comp6_rate_percent_diff',axis=1,inplace=True)\n",
    "test_data.drop('comp7_inv',axis=1,inplace=True)\n",
    "test_data.drop('comp7_rate_percent_diff',axis=1,inplace=True)\n",
    "test_data.drop('comp8_inv',axis=1,inplace=True)\n",
    "test_data.drop('comp8_rate_percent_diff',axis=1,inplace=True)"
   ]
  },
  {
   "cell_type": "code",
   "execution_count": null,
   "metadata": {},
   "outputs": [],
   "source": [
    "test_data = test_data[test_data.price_usd < 1800]"
   ]
  },
  {
   "cell_type": "code",
   "execution_count": null,
   "metadata": {},
   "outputs": [],
   "source": [
    "test_data = test_data.fillna(0)"
   ]
  },
  {
   "cell_type": "code",
   "execution_count": null,
   "metadata": {},
   "outputs": [],
   "source": [
    "clustering_kmeans = MiniBatchKMeans(n_clusters=100)\n",
    "test_data['hotel_cluster'] = clustering_kmeans.fit_predict(test_data)"
   ]
  },
  {
   "cell_type": "code",
   "execution_count": null,
   "metadata": {},
   "outputs": [],
   "source": [
    "test_data = test_data.sort_values('srch_id')\n",
    "test_data = test_data.reset_index(drop =True)\n",
    "test_data_search_ids = test_data.srch_id\n",
    "\n",
    "test_data_groups = test_data.srch_id.value_counts(sort=True,ascending=True).sort_index()\n",
    "\n",
    "srch_id = test_data.srch_id\n",
    "prop_id = test_data.prop_id\n",
    "test_data.drop(['srch_id'],axis=1,inplace=True)"
   ]
  },
  {
   "cell_type": "code",
   "execution_count": null,
   "metadata": {},
   "outputs": [],
   "source": [
    "def create_result(rankings,srch_id,prop_id):\n",
    "    predictions = pd.DataFrame(rankings,columns=['probs'])\n",
    "    predictions = predictions.join(srch_id)\n",
    "    predictions = predictions.join(prop_id)\n",
    "    final_table = predictions.sort_values(by=['srch_id', 'probs'], ascending=[True, False])\n",
    "    final_table.reset_index(drop = True, inplace = True)\n",
    "    final_table = final_table.drop('probs',axis =1)\n",
    "    \n",
    "    return(final_table)"
   ]
  },
  {
   "cell_type": "markdown",
   "metadata": {},
   "source": [
    "# Method 1 - LightGBM"
   ]
  },
  {
   "cell_type": "code",
   "execution_count": 2,
   "metadata": {},
   "outputs": [
    {
     "data": {
      "text/plain": [
       "'rankings_lgb = model2.predict(test_data)'"
      ]
     },
     "execution_count": 2,
     "metadata": {},
     "output_type": "execute_result"
    }
   ],
   "source": [
    "#rankings_lgb = model2.predict(test_data)"
   ]
  },
  {
   "cell_type": "code",
   "execution_count": null,
   "metadata": {},
   "outputs": [],
   "source": [
    "#final_table_lgb2 = create_result(rankings_lgb,srch_id,prop_id)\n",
    "#final_table_lgb2.to_csv('rankings_lgb_cluster_booking3.csv',index = False)"
   ]
  },
  {
   "cell_type": "markdown",
   "metadata": {},
   "source": [
    "# Method 2 - XGBoost"
   ]
  },
  {
   "cell_type": "code",
   "execution_count": null,
   "metadata": {},
   "outputs": [],
   "source": [
    "#rankings_xgb = model3.predict(test_data)"
   ]
  },
  {
   "cell_type": "code",
   "execution_count": null,
   "metadata": {},
   "outputs": [],
   "source": [
    "#final_table_xgb = create_result(rankings_xgb,srch_id,prop_id)\n",
    "#final_table_xgb.to_csv('rankings_xgb_cluster_booking1.csv',index = False)"
   ]
  },
  {
   "cell_type": "markdown",
   "metadata": {},
   "source": [
    "Compare LGB with XGB"
   ]
  },
  {
   "cell_type": "code",
   "execution_count": null,
   "metadata": {},
   "outputs": [],
   "source": [
    "#table = pd.DataFrame()\n",
    "#table['srch_id'] = srch_id\n",
    "#table['prob_id_lgb'] = final_table_lgb2['prop_id']\n",
    "#table['prob_id_xgb'] = final_table_xgb['prop_id']\n",
    "#print(table)"
   ]
  }
 ],
 "metadata": {
  "kernelspec": {
   "display_name": "Python 3",
   "language": "python",
   "name": "python3"
  },
  "language_info": {
   "codemirror_mode": {
    "name": "ipython",
    "version": 3
   },
   "file_extension": ".py",
   "mimetype": "text/x-python",
   "name": "python",
   "nbconvert_exporter": "python",
   "pygments_lexer": "ipython3",
   "version": "3.8.0"
  },
  "varInspector": {
   "cols": {
    "lenName": 16,
    "lenType": 16,
    "lenVar": 40
   },
   "kernels_config": {
    "python": {
     "delete_cmd_postfix": "",
     "delete_cmd_prefix": "del ",
     "library": "var_list.py",
     "varRefreshCmd": "print(var_dic_list())"
    },
    "r": {
     "delete_cmd_postfix": ") ",
     "delete_cmd_prefix": "rm(",
     "library": "var_list.r",
     "varRefreshCmd": "cat(var_dic_list()) "
    }
   },
   "position": {
    "height": "301px",
    "left": "1027px",
    "right": "20px",
    "top": "33px",
    "width": "492.6px"
   },
   "types_to_exclude": [
    "module",
    "function",
    "builtin_function_or_method",
    "instance",
    "_Feature"
   ],
   "window_display": true
  }
 },
 "nbformat": 4,
 "nbformat_minor": 4
}
